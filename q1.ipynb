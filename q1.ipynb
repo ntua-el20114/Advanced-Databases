{
 "cells": [
  {
   "cell_type": "code",
   "execution_count": 4,
   "id": "a0395895",
   "metadata": {
    "scrolled": false
   },
   "outputs": [
    {
     "data": {
      "application/vnd.jupyter.widget-view+json": {
       "model_id": "",
       "version_major": 2,
       "version_minor": 0
      },
      "text/plain": [
       "FloatProgress(value=0.0, bar_style='info', description='Progress:', layout=Layout(height='25px', width='50%'),…"
      ]
     },
     "metadata": {},
     "output_type": "display_data"
    },
    {
     "name": "stdout",
     "output_type": "stream",
     "text": [
      "+---------+--------------------+--------------------+--------+-----+---------+-----------+--------+------+--------------------+--------------+--------+--------+------------+---------+--------------------+--------------+--------------------+------+------------+--------+--------+--------+--------+--------------------+--------------------+-------+---------+\n",
      "|    DR_NO|           Date Rptd|            DATE OCC|TIME OCC|AREA |AREA NAME|Rpt Dist No|Part 1-2|Crm Cd|         Crm Cd Desc|       Mocodes|Vict Age|Vict Sex|Vict Descent|Premis Cd|         Premis Desc|Weapon Used Cd|         Weapon Desc|Status| Status Desc|Crm Cd 1|Crm Cd 2|Crm Cd 3|Crm Cd 4|            LOCATION|        Cross Street|    LAT|      LON|\n",
      "+---------+--------------------+--------------------+--------+-----+---------+-----------+--------+------+--------------------+--------------+--------+--------+------------+---------+--------------------+--------------+--------------------+------+------------+--------+--------+--------+--------+--------------------+--------------------+-------+---------+\n",
      "|  1307355|02/20/2010 12:00:...|02/20/2010 12:00:...|    1350|   13|   Newton|       1385|       2|   900|VIOLATION OF COUR...|0913 1814 2000|      48|       M|           H|      501|SINGLE FAMILY DWE...|          NULL|                NULL|    AA|Adult Arrest|     900|    NULL|    NULL|    NULL|300 E  GAGE      ...|                NULL|33.9825|-118.2695|\n",
      "| 11401303|09/13/2010 12:00:...|09/12/2010 12:00:...|      45|   14|  Pacific|       1485|       2|   740|VANDALISM - FELON...|          0329|       0|       M|           W|      101|              STREET|          NULL|                NULL|    IC| Invest Cont|     740|    NULL|    NULL|    NULL|SEPULVEDA        ...|MANCHESTER       ...|33.9599|-118.3962|\n",
      "| 70309629|08/09/2010 12:00:...|08/09/2010 12:00:...|    1515|   13|   Newton|       1324|       2|   946|OTHER MISCELLANEO...|          0344|       0|       M|           H|      103|               ALLEY|          NULL|                NULL|    IC| Invest Cont|     946|    NULL|    NULL|    NULL|1300 E  21ST     ...|                NULL|34.0224|-118.2524|\n",
      "| 90631215|01/05/2010 12:00:...|01/05/2010 12:00:...|     150|    6|Hollywood|        646|       2|   900|VIOLATION OF COUR...|1100 0400 1402|      47|       F|           W|      101|              STREET|           102|            HAND GUN|    IC| Invest Cont|     900|     998|    NULL|    NULL|CAHUENGA         ...|HOLLYWOOD        ...|34.1016|-118.3295|\n",
      "|100100501|01/03/2010 12:00:...|01/02/2010 12:00:...|    2100|    1|  Central|        176|       1|   122|     RAPE, ATTEMPTED|          0400|      47|       F|           H|      103|               ALLEY|           400|STRONG-ARM (HANDS...|    IC| Invest Cont|     122|    NULL|    NULL|    NULL|8TH              ...|SAN PEDRO        ...|34.0387|-118.2488|\n",
      "|100100506|01/05/2010 12:00:...|01/04/2010 12:00:...|    1650|    1|  Central|        162|       1|   442|SHOPLIFTING - PET...|     0344 1402|      23|       M|           B|      404|    DEPARTMENT STORE|          NULL|                NULL|    AA|Adult Arrest|     442|    NULL|    NULL|    NULL|700 W  7TH       ...|                NULL| 34.048|-118.2577|\n",
      "|100100508|01/08/2010 12:00:...|01/07/2010 12:00:...|    2005|    1|  Central|        182|       1|   330|BURGLARY FROM VEH...|          0344|      46|       M|           H|      101|              STREET|          NULL|                NULL|    IC| Invest Cont|     330|    NULL|    NULL|    NULL|PICO             ...|GRAND            ...|34.0389|-118.2643|\n",
      "|100100509|01/09/2010 12:00:...|01/08/2010 12:00:...|    2100|    1|  Central|        157|       1|   230|ASSAULT WITH DEAD...|          0416|      51|       M|           B|      710|       OTHER PREMISE|           500|UNKNOWN WEAPON/OT...|    AA|Adult Arrest|     230|    NULL|    NULL|    NULL|500    CROCKER   ...|                NULL|34.0435|-118.2427|\n",
      "|100100510|01/09/2010 12:00:...|01/09/2010 12:00:...|     230|    1|  Central|        171|       1|   230|ASSAULT WITH DEAD...|     0400 0416|      30|       M|           H|      108|         PARKING LOT|           400|STRONG-ARM (HANDS...|    IC| Invest Cont|     230|    NULL|    NULL|    NULL|800 W  OLYMPIC   ...|                NULL| 34.045| -118.264|\n",
      "|100100511|01/09/2010 12:00:...|01/06/2010 12:00:...|    2100|    1|  Central|        132|       1|   341|THEFT-GRAND ($950...|     0344 1402|      55|       M|           W|      710|       OTHER PREMISE|          NULL|                NULL|    IC| Invest Cont|     341|     998|    NULL|    NULL|200 S  OLIVE     ...|                NULL|34.0538|-118.2488|\n",
      "+---------+--------------------+--------------------+--------+-----+---------+-----------+--------+------+--------------------+--------------+--------+--------+------------+---------+--------------------+--------------+--------------------+------+------------+--------+--------+--------+--------+--------------------+--------------------+-------+---------+\n",
      "\n",
      "+-------+--------------------+--------------------+--------------------+-----------------+------------------+-----------+------------------+------------------+------------------+--------------------+-----------------+------------------+--------+------------+------------------+--------------------+------------------+--------------------+-----------------+------------+-----------------+------------------+-----------------+-----------------+--------------------+--------------------+------------------+-------------------+\n",
      "|summary|               DR_NO|           Date Rptd|            DATE OCC|         TIME OCC|             AREA |  AREA NAME|       Rpt Dist No|          Part 1-2|            Crm Cd|         Crm Cd Desc|          Mocodes|          Vict Age|Vict Sex|Vict Descent|         Premis Cd|         Premis Desc|    Weapon Used Cd|         Weapon Desc|           Status| Status Desc|         Crm Cd 1|          Crm Cd 2|         Crm Cd 3|         Crm Cd 4|            LOCATION|        Cross Street|               LAT|                LON|\n",
      "+-------+--------------------+--------------------+--------------------+-----------------+------------------+-----------+------------------+------------------+------------------+--------------------+-----------------+------------------+--------+------------+------------------+--------------------+------------------+--------------------+-----------------+------------+-----------------+------------------+-----------------+-----------------+--------------------+--------------------+------------------+-------------------+\n",
      "|  count|             2123044|             2123044|             2123044|          2123044|           2123044|    2123044|           2123044|           2123044|           2123044|             2123044|          1894595|           2123044| 1926226|     1926180|           2122991|             2122857|            713731|              713730|          2123041|     2123044|          2123034|            141364|             3563|              105|             2123044|              355744|           2123044|            2123044|\n",
      "|   mean|1.4817832444441047E8|                NULL|                NULL|  1358.8448699132|11.088658548763002|       NULL|1155.2529391760133|1.4470891794988705|507.39043090958074|                NULL|609.6138661027164|31.743735881121633|    NULL|        NULL| 311.9209982519945|                NULL|371.51082270491264|                NULL|             16.0|        NULL| 507.211456811337| 948.5502956905577|  972.16166152119|975.3238095238095|  60.714285714285715|            55292.75|34.063713194826384|-118.30847950108713|\n",
      "| stddev|2.9139213556476064E7|                NULL|                NULL|647.2670612342318| 6.012396275572996|       NULL| 601.2520670657948|0.4971926804677937|210.78096374138073|                NULL|549.1955748518407| 20.64639244630086|    NULL|        NULL|211.48139906740354|                NULL|  113.264123938113|                NULL|4.242640687119285|        NULL|210.6397055850222|125.56121385559078|85.28171251400661|80.91549428951922|   55.08514887311848|  191090.00957812573|0.7140926542245816| 2.4495163376973648|\n",
      "|    min|             1208575|01/01/2010 12:00:...|01/01/2010 12:00:...|                1|                 1|77th Street|               100|                 1|               110|    ABORTION/ILLEGAL|             0100|               -13|       -|           -|               101|7TH AND METRO CEN...|               101|AIR PISTOL/REVOLV...|               13|Adult Arrest|              110|               122|               93|              421|                  00|10               ...|               0.0|          -118.8279|\n",
      "|    max|           910220366|12/31/2023 12:00:...|12/31/2019 12:00:...|             2359|                21|   Wilshire|              2199|                 2|               956|WEAPONS POSSESSIO...|   9999 2004 0910|               118|       X|           Z|               971|YARD (RESIDENTIAL...|               516|       VERBAL THREAT|               TH|         UNK|              999|               999|              999|              999|ZOO              ...|ZUNIGA           ...|           34.7907|                0.0|\n",
      "+-------+--------------------+--------------------+--------------------+-----------------+------------------+-----------+------------------+------------------+------------------+--------------------+-----------------+------------------+--------+------------+------------------+--------------------+------------------+--------------------+-----------------+------------+-----------------+------------------+-----------------+-----------------+--------------------+--------------------+------------------+-------------------+\n",
      "\n",
      "+-------+--------------------+--------------------+--------------------+-----------------+------------------+-----------+------------------+-------------------+------------------+--------------------+-----------------+------------------+--------+------------+------------------+--------------------+------------------+--------------------+------+------------+-----------------+-----------------+------------------+------------------+--------------------+--------------------+------------------+-------------------+\n",
      "|summary|               DR_NO|           Date Rptd|            DATE OCC|         TIME OCC|              AREA|  AREA NAME|       Rpt Dist No|           Part 1-2|            Crm Cd|         Crm Cd Desc|          Mocodes|          Vict Age|Vict Sex|Vict Descent|         Premis Cd|         Premis Desc|    Weapon Used Cd|         Weapon Desc|Status| Status Desc|         Crm Cd 1|         Crm Cd 2|          Crm Cd 3|          Crm Cd 4|            LOCATION|        Cross Street|               LAT|                LON|\n",
      "+-------+--------------------+--------------------+--------------------+-----------------+------------------+-----------+------------------+-------------------+------------------+--------------------+-----------------+------------------+--------+------------+------------------+--------------------+------------------+--------------------+------+------------+-----------------+-----------------+------------------+------------------+--------------------+--------------------+------------------+-------------------+\n",
      "|  count|              990293|              990293|              990293|           990293|            990293|     990293|            990293|             990293|            990293|              990293|           842641|            990293|  849515|      849504|            989970|              989399|            326547|              326547|990292|      990293|           990282|            68957|              2311|                64|              990293|              152641|            990293|             990293|\n",
      "|   mean|2.1990834386007676E8|                NULL|                NULL|1339.256671510351|10.697313825302208|       NULL|1116.1720733156753| 1.4029504399203063|  500.675145638715|                NULL|675.0889439704865| 29.01158445025866|    NULL|        NULL|305.96416558077516|                NULL|363.87362309254104|                NULL|  NULL|        NULL|500.4317204594247|958.1597517293386|  984.204673301601|         991.21875|   1.840255591054313|  112.41935483870968|33.986462641359196|-118.05001545330408|\n",
      "| stddev|1.3033750225959731E7|                NULL|                NULL|651.3514364149875|6.1089603969794055|       NULL| 611.0154022486503|0.49049120871650786|205.91411818885504|                NULL|626.2624022724949|21.982132335004742|    NULL|        NULL|219.20077860169985|                NULL| 123.7031293801794|                NULL|  NULL|        NULL|205.7131047445831|110.2516551509624|51.485643733164395|27.069850123602198|  19.320177838967624|   91.03946916715057| 1.730075555941449|  5.997837180259123|\n",
      "|    min|                 817|01/01/2020 12:00:...|01/01/2020 12:00:...|                1|                 1|77th Street|               101|                  1|               110|               ARSON|             0100|                -4|       -|           -|               101|7TH AND METRO CEN...|               101|AIR PISTOL/REVOLV...|    AA|Adult Arrest|              110|              210|               310|               821|                  00|10               ...|               0.0|          -118.6676|\n",
      "|    max|           249928885|12/31/2023 12:00:...|12/31/2023 12:00:...|             2359|                21|   Wilshire|              2199|                  2|               956|WEAPONS POSSESSIO...|   9999 2004 0910|               120|       X|           Z|               976|YARD (RESIDENTIAL...|               516|       VERBAL THREAT|    JO|         UNK|              956|              999|               999|               999|ZOO              ...|ZUNIGA           ...|           34.3343|                0.0|\n",
      "+-------+--------------------+--------------------+--------------------+-----------------+------------------+-----------+------------------+-------------------+------------------+--------------------+-----------------+------------------+--------+------------+------------------+--------------------+------------------+--------------------+------+------------+-----------------+-----------------+------------------+------------------+--------------------+--------------------+------------------+-------------------+\n",
      "\n",
      "root\n",
      " |-- DR_NO: integer (nullable = true)\n",
      " |-- Date Rptd: string (nullable = true)\n",
      " |-- DATE OCC: string (nullable = true)\n",
      " |-- TIME OCC: integer (nullable = true)\n",
      " |-- AREA : integer (nullable = true)\n",
      " |-- AREA NAME: string (nullable = true)\n",
      " |-- Rpt Dist No: integer (nullable = true)\n",
      " |-- Part 1-2: integer (nullable = true)\n",
      " |-- Crm Cd: integer (nullable = true)\n",
      " |-- Crm Cd Desc: string (nullable = true)\n",
      " |-- Mocodes: string (nullable = true)\n",
      " |-- Vict Age: integer (nullable = true)\n",
      " |-- Vict Sex: string (nullable = true)\n",
      " |-- Vict Descent: string (nullable = true)\n",
      " |-- Premis Cd: integer (nullable = true)\n",
      " |-- Premis Desc: string (nullable = true)\n",
      " |-- Weapon Used Cd: integer (nullable = true)\n",
      " |-- Weapon Desc: string (nullable = true)\n",
      " |-- Status: string (nullable = true)\n",
      " |-- Status Desc: string (nullable = true)\n",
      " |-- Crm Cd 1: integer (nullable = true)\n",
      " |-- Crm Cd 2: integer (nullable = true)\n",
      " |-- Crm Cd 3: integer (nullable = true)\n",
      " |-- Crm Cd 4: integer (nullable = true)\n",
      " |-- LOCATION: string (nullable = true)\n",
      " |-- Cross Street: string (nullable = true)\n",
      " |-- LAT: double (nullable = true)\n",
      " |-- LON: double (nullable = true)\n",
      "\n",
      "root\n",
      " |-- DR_NO: integer (nullable = true)\n",
      " |-- Date Rptd: string (nullable = true)\n",
      " |-- DATE OCC: string (nullable = true)\n",
      " |-- TIME OCC: integer (nullable = true)\n",
      " |-- AREA: integer (nullable = true)\n",
      " |-- AREA NAME: string (nullable = true)\n",
      " |-- Rpt Dist No: integer (nullable = true)\n",
      " |-- Part 1-2: integer (nullable = true)\n",
      " |-- Crm Cd: integer (nullable = true)\n",
      " |-- Crm Cd Desc: string (nullable = true)\n",
      " |-- Mocodes: string (nullable = true)\n",
      " |-- Vict Age: integer (nullable = true)\n",
      " |-- Vict Sex: string (nullable = true)\n",
      " |-- Vict Descent: string (nullable = true)\n",
      " |-- Premis Cd: integer (nullable = true)\n",
      " |-- Premis Desc: string (nullable = true)\n",
      " |-- Weapon Used Cd: integer (nullable = true)\n",
      " |-- Weapon Desc: string (nullable = true)\n",
      " |-- Status: string (nullable = true)\n",
      " |-- Status Desc: string (nullable = true)\n",
      " |-- Crm Cd 1: integer (nullable = true)\n",
      " |-- Crm Cd 2: integer (nullable = true)\n",
      " |-- Crm Cd 3: integer (nullable = true)\n",
      " |-- Crm Cd 4: integer (nullable = true)\n",
      " |-- LOCATION: string (nullable = true)\n",
      " |-- Cross Street: string (nullable = true)\n",
      " |-- LAT: double (nullable = true)\n",
      " |-- LON: double (nullable = true)\n",
      "\n",
      "Time taken: 11.30 seconds"
     ]
    }
   ],
   "source": [
    "from pyspark.sql import SparkSession\n",
    "from pyspark.sql.functions import col, when, count\n",
    "import time\n",
    "\n",
    "# Create SparkSession\n",
    "spark = SparkSession.builder \\\n",
    "    .appName(\"Query1\") \\\n",
    "    .config(\"spark.executor.instances\", \"4\") \\\n",
    "    .getOrCreate()\n",
    "\n",
    "# Start timing\n",
    "start_time = time.time()\n",
    "\n",
    "# Load Data\n",
    "crime_data_path_1 = \"s3://initial-notebook-data-bucket-dblab-905418150721/CrimeData/Crime_Data_from_2010_to_2019_20241101.csv\"\n",
    "crime_data_path_2 = \"s3://initial-notebook-data-bucket-dblab-905418150721/CrimeData/Crime_Data_from_2020_to_Present_20241101.csv\"\n",
    "data_1 = spark.read.csv(crime_data_path_1, header=True, inferSchema=True)\n",
    "data_2 = spark.read.csv(crime_data_path_2, header=True, inferSchema=True)\n",
    "\n",
    "# View first 10 lines of first dataset (for validation)\n",
    "data_1.limit(10).show()\n",
    "\n",
    "# Describe the datasets\n",
    "data_1.describe().show()    \n",
    "data_2.describe().show() \n",
    "\n",
    "# Print schemas\n",
    "data_1.printSchema()\n",
    "data_2.printSchema()\n",
    "\n",
    "# Stop timing and print out the execution duration\n",
    "end_time = time.time()\n",
    "elapsed_time = end_time - start_time\n",
    "print(f\"Time taken: {elapsed_time:.2f} seconds\")"
   ]
  },
  {
   "cell_type": "code",
   "execution_count": 2,
   "id": "d777962c",
   "metadata": {},
   "outputs": [
    {
     "data": {
      "application/vnd.jupyter.widget-view+json": {
       "model_id": "",
       "version_major": 2,
       "version_minor": 0
      },
      "text/plain": [
       "FloatProgress(value=0.0, bar_style='info', description='Progress:', layout=Layout(height='25px', width='50%'),…"
      ]
     },
     "metadata": {},
     "output_type": "display_data"
    },
    {
     "name": "stdout",
     "output_type": "stream",
     "text": [
      "+------------+------+\n",
      "|   Age Group| Count|\n",
      "+------------+------+\n",
      "|      Adults|121093|\n",
      "|Young Adults| 33605|\n",
      "|    Children| 15928|\n",
      "|     Elderly|  5985|\n",
      "+------------+------+\n",
      "\n",
      "Time taken: 4.87 seconds"
     ]
    }
   ],
   "source": [
    "# Start timing\n",
    "start_time = time.time()\n",
    "\n",
    "# Load Data\n",
    "crime_data_path_1 = \"s3://initial-notebook-data-bucket-dblab-905418150721/CrimeData/Crime_Data_from_2010_to_2019_20241101.csv\"\n",
    "crime_data_path_2 = \"s3://initial-notebook-data-bucket-dblab-905418150721/CrimeData/Crime_Data_from_2020_to_Present_20241101.csv\"\n",
    "data_1 = spark.read.csv(crime_data_path_1, header=True, inferSchema=True)\n",
    "data_2 = spark.read.csv(crime_data_path_2, header=True, inferSchema=True)\n",
    "\n",
    "# Concatenate datasets\n",
    "data = data_1.union(data_2)\n",
    "\n",
    "# Filter data for \"aggravated assault\"\n",
    "aggravated_assault_data = data.filter(col(\"Crm Cd Desc\").contains(\"AGGRAVATED ASSAULT\"))\n",
    "\n",
    "# Group by age\n",
    "categorized_data = aggravated_assault_data.withColumn(\n",
    "    \"Age Group\",\n",
    "    when(col(\"Vict Age\") < 18, \"Children\")\n",
    "    .when((col(\"Vict Age\") >= 18) & (col(\"Vict Age\") <= 24), \"Young Adults\")\n",
    "    .when((col(\"Vict Age\") >= 25) & (col(\"Vict Age\") <= 64), \"Adults\")\n",
    "    .when(col(\"Vict Age\") > 64, \"Elderly\")\n",
    ")\n",
    "age_group_counts = categorized_data.groupBy(\"Age Group\").agg(count(\"Age Group\").alias(\"Count\"))\n",
    "\n",
    "# Sort in decending order\n",
    "sorted_age_groups = age_group_counts.orderBy(col(\"Count\").desc())\n",
    "\n",
    "# Show results\n",
    "sorted_age_groups.show()\n",
    "\n",
    "# Stop timing and print out the execution duration\n",
    "end_time = time.time()\n",
    "elapsed_time = end_time - start_time\n",
    "print(f\"Time taken: {elapsed_time:.2f} seconds\")"
   ]
  },
  {
   "cell_type": "code",
   "execution_count": 3,
   "id": "0f48de1e",
   "metadata": {},
   "outputs": [
    {
     "data": {
      "application/vnd.jupyter.widget-view+json": {
       "model_id": "",
       "version_major": 2,
       "version_minor": 0
      },
      "text/plain": [
       "FloatProgress(value=0.0, bar_style='info', description='Progress:', layout=Layout(height='25px', width='50%'),…"
      ]
     },
     "metadata": {},
     "output_type": "display_data"
    },
    {
     "name": "stdout",
     "output_type": "stream",
     "text": [
      "Adults: 121093\n",
      "Young Adults: 33605\n",
      "Children: 15928\n",
      "Elderly: 5985\n",
      "Time taken: 7.92 seconds"
     ]
    }
   ],
   "source": [
    "# Start timing\n",
    "start_time = time.time()\n",
    "\n",
    "# Φόρτωση δεδομένων\n",
    "crime_data_path_1 = \"s3://initial-notebook-data-bucket-dblab-905418150721/CrimeData/Crime_Data_from_2010_to_2019_20241101.csv\"\n",
    "crime_data_path_2 = \"s3://initial-notebook-data-bucket-dblab-905418150721/CrimeData/Crime_Data_from_2020_to_Present_20241101.csv\"\n",
    "data_1 = spark.read.csv(crime_data_path_1, header=True, inferSchema=True)\n",
    "data_2 = spark.read.csv(crime_data_path_2, header=True, inferSchema=True)\n",
    "\n",
    "# Συνένωση δεδομένων\n",
    "data = data_1.union(data_2)\n",
    "\n",
    "# Υλοποίηση με RDD API\n",
    "rdd = data.rdd\n",
    "\n",
    "# Φιλτράρισμα για \"aggravated assault\"\n",
    "aggravated_assault_rdd = rdd.filter(lambda row: \"AGGRAVATED ASSAULT\" in row[\"Crm Cd Desc\"])\n",
    "\n",
    "# Κατηγοριοποίηση ηλικιών\n",
    "categorized_rdd = aggravated_assault_rdd.map(\n",
    "    lambda row: (\n",
    "        \"Children\" if row[\"Vict Age\"] < 18 else\n",
    "        \"Young Adults\" if 18 <= row[\"Vict Age\"] <= 24 else\n",
    "        \"Adults\" if 25 <= row[\"Vict Age\"] <= 64 else\n",
    "        \"Elderly\",\n",
    "        1\n",
    "    )\n",
    ")\n",
    "\n",
    "# Ομαδοποίηση και καταμέτρηση περιστατικών\n",
    "age_group_counts_rdd = categorized_rdd.reduceByKey(lambda a, b: a + b)\n",
    "\n",
    "# Ταξινόμηση σε φθίνουσα σειρά\n",
    "sorted_age_groups_rdd = age_group_counts_rdd.sortBy(lambda x: x[1], ascending=False)\n",
    "\n",
    "# Εμφάνιση αποτελεσμάτων\n",
    "for group, count in sorted_age_groups_rdd.collect():\n",
    "    print(f\"{group}: {count}\")\n",
    "\n",
    "# Stop timing and print out the execution duration\n",
    "end_time = time.time()\n",
    "elapsed_time = end_time - start_time\n",
    "print(f\"Time taken: {elapsed_time:.2f} seconds\")"
   ]
  },
  {
   "cell_type": "code",
   "execution_count": null,
   "id": "8b2ed489",
   "metadata": {},
   "outputs": [],
   "source": [
    "spark.stop();"
   ]
  }
 ],
 "metadata": {
  "kernelspec": {
   "display_name": "Sparkmagic (PySpark)",
   "language": "python",
   "name": "pysparkkernel"
  },
  "language_info": {
   "codemirror_mode": {
    "name": "python",
    "version": 3
   },
   "file_extension": ".py",
   "mimetype": "text/x-python",
   "name": "pyspark",
   "pygments_lexer": "python3"
  }
 },
 "nbformat": 4,
 "nbformat_minor": 5
}
